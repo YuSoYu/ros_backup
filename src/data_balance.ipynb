{
 "cells": [
  {
   "cell_type": "markdown",
   "id": "60305b3f",
   "metadata": {},
   "source": [
    "# person data 축소"
   ]
  },
  {
   "cell_type": "code",
   "execution_count": 10,
   "id": "71866d50",
   "metadata": {},
   "outputs": [
    {
     "name": "stdout",
     "output_type": "stream",
     "text": [
      "✅ 완료: train 600개, valid 200개\n"
     ]
    }
   ],
   "source": [
    "import os\n",
    "import random\n",
    "import shutil\n",
    "\n",
    "# 원본 person 데이터 경로\n",
    "person_img_dir = \"/home/usou/Downloads/small_dataset/train/images\"\n",
    "person_lbl_dir = \"/home/usou/Downloads/small_dataset/train/labels\"\n",
    "\n",
    "# 분리 저장 경로\n",
    "base_dir = \"/home/usou/Downloads/800_person_dataset\"\n",
    "train_img_dir = os.path.join(base_dir, \"train/images\")\n",
    "train_lbl_dir = os.path.join(base_dir, \"train/labels\")\n",
    "valid_img_dir = os.path.join(base_dir, \"valid/images\")\n",
    "valid_lbl_dir = os.path.join(base_dir, \"valid/labels\")\n",
    "\n",
    "# 디렉토리 생성\n",
    "for d in [train_img_dir, train_lbl_dir, valid_img_dir, valid_lbl_dir]:\n",
    "    os.makedirs(d, exist_ok=True)\n",
    "\n",
    "# 무작위 800장 추출\n",
    "img_files = [f for f in os.listdir(person_img_dir) if f.endswith('.jpg')]\n",
    "selected_imgs = random.sample(img_files, 800)\n",
    "\n",
    "# 학습/검증 비율 나눔\n",
    "train_imgs = selected_imgs[:600]\n",
    "valid_imgs = selected_imgs[600:]\n",
    "\n",
    "def copy_and_fix_label(img_list, src_img_dir, src_lbl_dir, dst_img_dir, dst_lbl_dir):\n",
    "    copied = 0\n",
    "    for img in img_list:\n",
    "        lbl = img.replace('.jpg', '.txt')\n",
    "        src_img = os.path.join(src_img_dir, img)\n",
    "        src_lbl = os.path.join(src_lbl_dir, lbl)\n",
    "        dst_img = os.path.join(dst_img_dir, img)\n",
    "        dst_lbl = os.path.join(dst_lbl_dir, lbl)\n",
    "\n",
    "        if os.path.exists(src_lbl):\n",
    "            shutil.copy(src_img, dst_img)\n",
    "\n",
    "            # 클래스 인덱스 0으로 고정\n",
    "            with open(src_lbl, \"r\") as f:\n",
    "                lines = f.readlines()\n",
    "            fixed_lines = []\n",
    "            for line in lines:\n",
    "                parts = line.strip().split()\n",
    "                if parts:\n",
    "                    parts[0] = '0'  # person 클래스 인덱스 고정\n",
    "                    fixed_lines.append(\" \".join(parts))\n",
    "            with open(dst_lbl, \"w\") as f:\n",
    "                f.write(\"\\n\".join(fixed_lines) + \"\\n\")\n",
    "            copied += 1\n",
    "        else:\n",
    "            print(f\"⚠️ 라벨 없음: {lbl}\")\n",
    "    return copied\n",
    "\n",
    "# 복사 실행\n",
    "train_count = copy_and_fix_label(train_imgs, person_img_dir, person_lbl_dir, train_img_dir, train_lbl_dir)\n",
    "valid_count = copy_and_fix_label(valid_imgs, person_img_dir, person_lbl_dir, valid_img_dir, valid_lbl_dir)\n",
    "\n",
    "print(f\"✅ 완료: train {train_count}개, valid {valid_count}개\")\n"
   ]
  },
  {
   "cell_type": "code",
   "execution_count": 11,
   "id": "958751e4",
   "metadata": {},
   "outputs": [
    {
     "name": "stdout",
     "output_type": "stream",
     "text": [
      "✅ roscar 데이터 600 train / 200 valid 분할 완료\n"
     ]
    }
   ],
   "source": [
    "import os\n",
    "import shutil\n",
    "import random\n",
    "\n",
    "# 원본 roscar 구조\n",
    "roscar_root = \"/home/usou/Downloads/roscar_dataset\"\n",
    "\n",
    "# 타겟 위치\n",
    "train_img_dst = \"/home/usou/Downloads/800_person_dataset/train/images\"\n",
    "train_lbl_dst = \"/home/usou/Downloads/800_person_dataset/train/labels\"\n",
    "valid_img_dst = \"/home/usou/Downloads/800_person_dataset/valid/images\"\n",
    "valid_lbl_dst = \"/home/usou/Downloads/800_person_dataset/valid/labels\"\n",
    "\n",
    "# 디렉토리 생성\n",
    "for d in [train_img_dst, train_lbl_dst, valid_img_dst, valid_lbl_dst]:\n",
    "    os.makedirs(d, exist_ok=True)\n",
    "\n",
    "# 모든 하위 폴더 순회하며 roscar 이미지 수집\n",
    "roscar_img_list = []\n",
    "\n",
    "for subdir in os.listdir(roscar_root):\n",
    "    subpath = os.path.join(roscar_root, subdir)\n",
    "    if os.path.isdir(subpath):\n",
    "        for file in os.listdir(subpath):\n",
    "            if file.endswith('.jpg'):\n",
    "                full_img_path = os.path.join(subpath, file)\n",
    "                full_lbl_path = full_img_path.replace('.jpg', '.txt')\n",
    "                if os.path.exists(full_lbl_path):\n",
    "                    roscar_img_list.append((full_img_path, full_lbl_path))\n",
    "\n",
    "# 무작위 섞기\n",
    "random.shuffle(roscar_img_list)\n",
    "\n",
    "# 600 train / 200 valid 분할\n",
    "train_split = roscar_img_list[:600]\n",
    "valid_split = roscar_img_list[600:800]\n",
    "\n",
    "def copy_pair(pairs, img_dst, lbl_dst):\n",
    "    for img_path, lbl_path in pairs:\n",
    "        img_name = os.path.basename(img_path)\n",
    "        lbl_name = os.path.basename(lbl_path)\n",
    "        shutil.copy(img_path, os.path.join(img_dst, img_name))\n",
    "        shutil.copy(lbl_path, os.path.join(lbl_dst, lbl_name))\n",
    "\n",
    "copy_pair(train_split, train_img_dst, train_lbl_dst)\n",
    "copy_pair(valid_split, valid_img_dst, valid_lbl_dst)\n",
    "\n",
    "print(\"✅ roscar 데이터 600 train / 200 valid 분할 완료\")\n"
   ]
  },
  {
   "cell_type": "markdown",
   "id": "b2e8d98a",
   "metadata": {},
   "source": []
  },
  {
   "cell_type": "markdown",
   "id": "8a4c7ed9",
   "metadata": {},
   "source": [
    "# 모든걸 person으로 인식하는 문제 발생\n",
    "    - .txt 라벨링 데이터에서 클래스 번호가 0이 person이라 1로 변경해야됨"
   ]
  },
  {
   "cell_type": "code",
   "execution_count": 12,
   "id": "a1ea2b48",
   "metadata": {},
   "outputs": [
    {
     "name": "stdout",
     "output_type": "stream",
     "text": [
      "✅ 모든 .txt 라벨에서 클래스 0 → 1 변경 완료\n"
     ]
    }
   ],
   "source": [
    "import os\n",
    "\n",
    "# roscar 라벨이 들어 있는 경로\n",
    "label_dir = \"/home/usou/Downloads/800_person_dataset/train/labels\"\n",
    "\n",
    "# 'roscar' 라벨링된 파일들이 특정 규칙 (예: 이름 패턴) 없을 경우 전부 처리\n",
    "for fname in os.listdir(label_dir):\n",
    "    if fname.endswith(\".txt\"):\n",
    "        file_path = os.path.join(label_dir, fname)\n",
    "\n",
    "        # 내용 읽고 첫 인덱스가 '0'이면 '1'로 바꾸기\n",
    "        with open(file_path, \"r\") as f:\n",
    "            lines = f.readlines()\n",
    "\n",
    "        new_lines = []\n",
    "        for line in lines:\n",
    "            parts = line.strip().split()\n",
    "            if parts and parts[0] == '0':\n",
    "                parts[0] = '1'\n",
    "            new_lines.append(\" \".join(parts) + \"\\n\")\n",
    "\n",
    "        # 파일 덮어쓰기\n",
    "        with open(file_path, \"w\") as f:\n",
    "            f.writelines(new_lines)\n",
    "\n",
    "print(\"✅ 모든 .txt 라벨에서 클래스 0 → 1 변경 완료\")\n"
   ]
  },
  {
   "cell_type": "code",
   "execution_count": 14,
   "id": "b124ece0",
   "metadata": {},
   "outputs": [
    {
     "name": "stdout",
     "output_type": "stream",
     "text": [
      "✅ 모든 .txt 라벨에서 클래스 0 → 1 변경 완료\n"
     ]
    }
   ],
   "source": [
    "import os\n",
    "\n",
    "# roscar 라벨이 들어 있는 경로\n",
    "label_dir = \"/home/usou/Downloads/800_person_dataset/valid/labels\"\n",
    "\n",
    "# 'roscar' 라벨링된 파일들이 특정 규칙 (예: 이름 패턴) 없을 경우 전부 처리\n",
    "for fname in os.listdir(label_dir):\n",
    "    if fname.endswith(\".txt\"):\n",
    "        file_path = os.path.join(label_dir, fname)\n",
    "\n",
    "        # 내용 읽고 첫 인덱스가 '0'이면 '1'로 바꾸기\n",
    "        with open(file_path, \"r\") as f:\n",
    "            lines = f.readlines()\n",
    "\n",
    "        new_lines = []\n",
    "        for line in lines:\n",
    "            parts = line.strip().split()\n",
    "            if parts and parts[0] == '0':\n",
    "                parts[0] = '1'\n",
    "            new_lines.append(\" \".join(parts) + \"\\n\")\n",
    "\n",
    "        # 파일 덮어쓰기\n",
    "        with open(file_path, \"w\") as f:\n",
    "            f.writelines(new_lines)\n",
    "\n",
    "print(\"✅ 모든 .txt 라벨에서 클래스 0 → 1 변경 완료\")\n"
   ]
  },
  {
   "cell_type": "markdown",
   "id": "549820e2",
   "metadata": {},
   "source": [
    "# 테스트"
   ]
  },
  {
   "cell_type": "code",
   "execution_count": null,
   "id": "fe5d9e66",
   "metadata": {},
   "outputs": [],
   "source": [
    "import os\n",
    "\n",
    "# roscar 라벨이 들어 있는 경로\n",
    "label_dir = \"/home/usou/Downloads/800_person_dataset/train/labels\"\n",
    "\n",
    "# 'roscar' 라벨링된 파일들이 특정 규칙 (예: 이름 패턴) 없을 경우 전부 처리\n",
    "for fname in os.listdir(label_dir):\n",
    "    if fname.endswith(\".txt\"):\n",
    "        file_path = os.path.join(label_dir, fname)\n",
    "\n",
    "        # 내용 읽고 첫 인덱스가 '0'이면 '1'로 바꾸기\n",
    "        with open(file_path, \"r\") as f:\n",
    "            lines = f.readlines()\n",
    "\n",
    "        new_lines = []\n",
    "        for line in lines:\n",
    "            parts = line.strip().split()\n",
    "            if parts and parts[0] == '0':\n",
    "                parts[0] = '1'\n",
    "            new_lines.append(\" \".join(parts) + \"\\n\")\n",
    "\n",
    "        # 파일 덮어쓰기\n",
    "        with open(file_path, \"w\") as f:\n",
    "            f.writelines(new_lines)\n",
    "\n",
    "print(\"✅ 모든 .txt 라벨에서 클래스 0 → 1 변경 완료\")\n"
   ]
  },
  {
   "cell_type": "code",
   "execution_count": 18,
   "id": "eb0609a2",
   "metadata": {},
   "outputs": [
    {
     "name": "stdout",
     "output_type": "stream",
     "text": [
      "✅ 웹캠 실행 중... ESC를 눌러 종료합니다.\n"
     ]
    }
   ],
   "source": [
    "import cv2\n",
    "from ultralytics import YOLO\n",
    "\n",
    "# 1. 모델 로드\n",
    "model = YOLO(\"/home/usou/dev_ws/final_yolo_test/src/runs/detect/train8(person+roscar)/weights/best.pt\")\n",
    "\n",
    "# 2. 웹캠 열기 (기본 카메라: 0)\n",
    "cap = cv2.VideoCapture(0)\n",
    "\n",
    "if not cap.isOpened():\n",
    "    print(\"❌ 웹캠을 열 수 없습니다.\")\n",
    "    exit()\n",
    "\n",
    "print(\"✅ 웹캠 실행 중... ESC를 눌러 종료합니다.\")\n",
    "\n",
    "while True:\n",
    "    ret, frame = cap.read()\n",
    "    if not ret:\n",
    "        print(\"❌ 프레임 수신 실패\")\n",
    "        break\n",
    "\n",
    "    # 3. YOLO 추론\n",
    "    results = model(frame, verbose=False)\n",
    "\n",
    "    # 4. 결과 시각화\n",
    "    annotated_frame = results[0].plot()\n",
    "\n",
    "    # 5. 결과 출력\n",
    "    cv2.imshow(\"YOLO Webcam Detection\", annotated_frame)\n",
    "\n",
    "    # 6. ESC 키(27번) 누르면 종료\n",
    "    if cv2.waitKey(1) == 27:\n",
    "        break\n",
    "\n",
    "cap.release()\n",
    "cv2.destroyAllWindows()\n"
   ]
  }
 ],
 "metadata": {
  "kernelspec": {
   "display_name": "final",
   "language": "python",
   "name": "python3"
  },
  "language_info": {
   "codemirror_mode": {
    "name": "ipython",
    "version": 3
   },
   "file_extension": ".py",
   "mimetype": "text/x-python",
   "name": "python",
   "nbconvert_exporter": "python",
   "pygments_lexer": "ipython3",
   "version": "3.12.3"
  }
 },
 "nbformat": 4,
 "nbformat_minor": 5
}
